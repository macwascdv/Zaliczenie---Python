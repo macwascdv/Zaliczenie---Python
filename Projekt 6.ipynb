{
 "cells": [
  {
   "cell_type": "markdown",
   "metadata": {},
   "source": [
    "## Perceptron - projekt\n",
    "\n",
    "Moim ostatnim zadanym projektem było stworzenie perceptronu i nauczenie go rozpoznawania pozycji punktu względem linii funkcji"
   ]
  },
  {
   "cell_type": "markdown",
   "metadata": {},
   "source": [
    "Zanim zaczniemy, zaimportujmy bibliotekę numpy, która przyda nam się do utworzenia losowych punktów"
   ]
  },
  {
   "cell_type": "code",
   "execution_count": 1,
   "metadata": {},
   "outputs": [],
   "source": [
    "import numpy as np"
   ]
  },
  {
   "cell_type": "markdown",
   "metadata": {},
   "source": [
    "1. Pierwszym krokiem będzie utworzenie klasy Perceptron, która będzie przyjmować 2 wartości - liczbę wyjść oraz stałą uczenia."
   ]
  },
  {
   "cell_type": "code",
   "execution_count": 39,
   "metadata": {},
   "outputs": [],
   "source": [
    "class Perceptron(): \n",
    "    def __init__(self, n, c):  \n",
    "        self.stala_uczenia = c\n",
    "        self.liczba_wejsc = n\n",
    "        self.waga = []\n",
    "        for i in range(self.liczba_wejsc):\n",
    "            self.waga.append(2*np.random.rand(1)[0]-1)\n",
    "\n",
    "    def aktywacja(self, suma):  #Tutaj zostaje zwrocony ostatueczny wynik percpetronu\n",
    "        if suma>0:\n",
    "            return 1\n",
    "        else:\n",
    "            return -1\n",
    "\n",
    "    def iloczynSkalarny(self, x):\n",
    "        suma = 0\n",
    "        for i in range(self.liczba_wejsc):\n",
    "            suma = suma + x[i]*self.waga[i]\n",
    "        return suma\n",
    "\n",
    "    def odpowiedz(self,x):\n",
    "        suma = self.iloczynSkalarny(x)\n",
    "        return self.aktywacja(suma)\n",
    "\n",
    "    def dopasuj(self, x, poprawna_odp): \n",
    "        odp = self.odpowiedz(x)\n",
    "        blad = poprawna_odp - odp\n",
    "        for i in range(self.liczba_wejsc):\n",
    "            self.waga[i] = self.waga[i] + self.stala_uczenia*blad*x[i]"
   ]
  },
  {
   "cell_type": "markdown",
   "metadata": {},
   "source": [
    "\"Aktywacja\" - jej zadaniem będzie aktywacja naszego perceptronu (wynik powyżej zera da nam 1. Wynik 0 lub ujemny da nam -1."
   ]
  },
  {
   "cell_type": "markdown",
   "metadata": {},
   "source": [
    " \"Iloczyn skalarny\" zadaniem tej funkcji będzie wyliczenie sumy potrzebnej do funkcji aktywacji"
   ]
  },
  {
   "cell_type": "markdown",
   "metadata": {},
   "source": [
    "\"Opdowiedz\" - funkcja ta jest odpowiedzialna za pokazanie ostatecznego wyniku - 1 lub - 1 (na bazie sumy iloczynu skalarnego)"
   ]
  },
  {
   "cell_type": "markdown",
   "metadata": {},
   "source": [
    "\"Dopasuj\" - w razie fiaska, używamy tej funkcji, by za pomocą wartości błędu zmienić wagę wejść"
   ]
  },
  {
   "cell_type": "markdown",
   "metadata": {},
   "source": [
    "### Stworzenie i uczenie perceptronu"
   ]
  },
  {
   "cell_type": "markdown",
   "metadata": {},
   "source": [
    "1. Pierwszym etapem będzie stworzenie funkcji odpowiedzialnej za wyliczenie naszego celu( 1 lub -1), do którego będzie dążył nasz percpetron. Jako argumentów potrzebuje dwóch liczb z listy, którą zaraz utworzymy (będą to nasze współrzędne"
   ]
  },
  {
   "cell_type": "code",
   "execution_count": 40,
   "metadata": {},
   "outputs": [],
   "source": [
    "def cel(xp, yp):\n",
    "    y_linii = xp\n",
    "    if (y_linii - yp)>0:\n",
    "        return -1\n",
    "    else:\n",
    "        return 1"
   ]
  },
  {
   "cell_type": "markdown",
   "metadata": {},
   "source": [
    "2. Teraz możemy utworzyć wyżej wspomnianą listę, w której będą 3 wartości - dwie pierwsze będą wygenerowane losowo, natomiast trzecia (testowa), będzie miała wartość 1"
   ]
  },
  {
   "cell_type": "code",
   "execution_count": 70,
   "metadata": {},
   "outputs": [],
   "source": [
    "for i in range(500):    #Teraz tworzymy liste, ktorej 2 pierwsze liczby wykorzystamy do sprawdzenia perceptronu (3 jest testerem)\n",
    "    x = []\n",
    "    x.append(40*np.random.rand(1)[0]-20)\n",
    "    x.append(40*np.random.rand(1)[0]-20)\n",
    "    x.append(1)"
   ]
  },
  {
   "cell_type": "markdown",
   "metadata": {},
   "source": [
    "3. W tym kroku oficjalnie stworzymy naszego perceptrona - będzie miał 3 wejścia oraz stałą uczenia równą 0.05"
   ]
  },
  {
   "cell_type": "code",
   "execution_count": 71,
   "metadata": {},
   "outputs": [],
   "source": [
    "a=Perceptron(3,0.05)"
   ]
  },
  {
   "cell_type": "markdown",
   "metadata": {},
   "source": [
    "4. Mamy listę, mamy perceptron - czas poznać wynik, do którego będziemy dążyć"
   ]
  },
  {
   "cell_type": "code",
   "execution_count": 72,
   "metadata": {},
   "outputs": [
    {
     "name": "stdout",
     "output_type": "stream",
     "text": [
      "Prawidlowy wynik to: 1\n"
     ]
    }
   ],
   "source": [
    "poprawna_odpowiedz=cel(x[1],x[2])\n",
    "print(f\"Prawidlowy wynik to: {poprawna_odpowiedz}\")"
   ]
  },
  {
   "cell_type": "markdown",
   "metadata": {},
   "source": [
    "5. Czas na odpowiedz Perceptronu"
   ]
  },
  {
   "cell_type": "code",
   "execution_count": 73,
   "metadata": {},
   "outputs": [
    {
     "name": "stdout",
     "output_type": "stream",
     "text": [
      "Wynik Twojego perceptronu to: -1\n"
     ]
    }
   ],
   "source": [
    "wynik=a.odpowiedz(x)\n",
    "print(f\"Wynik Twojego perceptronu to: {wynik}\")"
   ]
  },
  {
   "cell_type": "markdown",
   "metadata": {},
   "source": [
    "6. W przypadku prawidłowego wyniku można wygenerować nową listę, by sprawdzić zachowanie perceptronu przy nowych danych."
   ]
  },
  {
   "cell_type": "markdown",
   "metadata": {},
   "source": [
    "7. W przypadku złego wyniku, używamy funkcji dopasuj, by zmienić wagę wejść i nauczyć perceptron"
   ]
  },
  {
   "cell_type": "code",
   "execution_count": 74,
   "metadata": {},
   "outputs": [],
   "source": [
    "a.dopasuj(x,poprawna_odpowiedz)\n",
    "wynik=a.odpowiedz(x)"
   ]
  },
  {
   "cell_type": "markdown",
   "metadata": {},
   "source": [
    "8. Teraz sprawdzimy, czy nowa odpowiedz jest prawidlowa"
   ]
  },
  {
   "cell_type": "code",
   "execution_count": 75,
   "metadata": {},
   "outputs": [
    {
     "name": "stdout",
     "output_type": "stream",
     "text": [
      "Twój oczekiwany wynik to: 1, \n",
      "Twój wynik to: 1\n"
     ]
    }
   ],
   "source": [
    "print(f\"Twój oczekiwany wynik to: {poprawna_odpowiedz}, \\nTwój wynik to: {wynik}\")"
   ]
  },
  {
   "cell_type": "code",
   "execution_count": null,
   "metadata": {},
   "outputs": [],
   "source": []
  }
 ],
 "metadata": {
  "kernelspec": {
   "display_name": "Python 3",
   "language": "python",
   "name": "python3"
  },
  "language_info": {
   "codemirror_mode": {
    "name": "ipython",
    "version": 3
   },
   "file_extension": ".py",
   "mimetype": "text/x-python",
   "name": "python",
   "nbconvert_exporter": "python",
   "pygments_lexer": "ipython3",
   "version": "3.7.4"
  }
 },
 "nbformat": 4,
 "nbformat_minor": 2
}
